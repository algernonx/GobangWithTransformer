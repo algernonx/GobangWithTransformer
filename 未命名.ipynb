{
 "cells": [
  {
   "cell_type": "code",
   "execution_count": 1,
   "metadata": {},
   "outputs": [],
   "source": [
    "from chess_board.base_board import ChessBoard"
   ]
  },
  {
   "cell_type": "code",
   "execution_count": 2,
   "metadata": {},
   "outputs": [],
   "source": [
    "cb = ChessBoard(6, 6, 3)"
   ]
  },
  {
   "cell_type": "code",
   "execution_count": 3,
   "metadata": {},
   "outputs": [
    {
     "name": "stdout",
     "output_type": "stream",
     "text": [
      "(0, None)\n",
      "(0, None)\n",
      "(0, None)\n"
     ]
    }
   ],
   "source": [
    "print(cb.move(1, 2, 3))\n",
    "print(cb.move(2, 2, 4))\n",
    "print(cb.move(1, 2, 5))"
   ]
  },
  {
   "cell_type": "code",
   "execution_count": 4,
   "metadata": {},
   "outputs": [
    {
     "data": {
      "text/plain": [
       "array([[0, 0, 0, 0, 0, 0],\n",
       "       [0, 0, 0, 0, 0, 0],\n",
       "       [0, 0, 0, 1, 2, 1],\n",
       "       [0, 0, 0, 0, 0, 0],\n",
       "       [0, 0, 0, 0, 0, 0],\n",
       "       [0, 0, 0, 0, 0, 0]])"
      ]
     },
     "execution_count": 4,
     "metadata": {},
     "output_type": "execute_result"
    }
   ],
   "source": [
    "cb.board"
   ]
  },
  {
   "cell_type": "code",
   "execution_count": 5,
   "metadata": {},
   "outputs": [
    {
     "name": "stdout",
     "output_type": "stream",
     "text": [
      "(0, None)\n",
      "(0, None)\n",
      "(0, None)\n",
      "(1, <GAME_PLAYER.PLAYER_ONE: 1>)\n"
     ]
    }
   ],
   "source": [
    "print(cb.move(2, 3, 4))\n",
    "print(cb.move(1, 4, 5))\n",
    "print(cb.move(2, 3, 1))\n",
    "print(cb.move(1, 3, 5))"
   ]
  },
  {
   "cell_type": "code",
   "execution_count": 6,
   "metadata": {},
   "outputs": [
    {
     "data": {
      "text/plain": [
       "array([[0, 0, 0, 0, 0, 0],\n",
       "       [0, 0, 0, 0, 0, 0],\n",
       "       [0, 0, 0, 1, 2, 1],\n",
       "       [0, 2, 0, 0, 2, 1],\n",
       "       [0, 0, 0, 0, 0, 1],\n",
       "       [0, 0, 0, 0, 0, 0]])"
      ]
     },
     "execution_count": 6,
     "metadata": {},
     "output_type": "execute_result"
    }
   ],
   "source": [
    "cb.board"
   ]
  },
  {
   "cell_type": "code",
   "execution_count": 7,
   "metadata": {},
   "outputs": [
    {
     "name": "stderr",
     "output_type": "stream",
     "text": [
      "2021-08-11 23:40:45.848 | ERROR    | chess_board.base_board:move:44 - Game is not reset !\n"
     ]
    },
    {
     "name": "stdout",
     "output_type": "stream",
     "text": [
      "(-1, None)\n"
     ]
    }
   ],
   "source": [
    "print(cb.move(1, 1, 1))"
   ]
  },
  {
   "cell_type": "code",
   "execution_count": 1,
   "metadata": {},
   "outputs": [],
   "source": [
    "from ai.net import Net\n",
    "import torch\n",
    "import numpy as np\n",
    "\n",
    "net = Net(5, 5)\n",
    "\n",
    "a = np.ones((2, 3, 5, 5))\n",
    "a = torch.Tensor(a)\n",
    "act, value = net(a)"
   ]
  },
  {
   "cell_type": "code",
   "execution_count": 2,
   "metadata": {},
   "outputs": [
    {
     "data": {
      "text/plain": [
       "torch.Size([2, 5, 5])"
      ]
     },
     "execution_count": 2,
     "metadata": {},
     "output_type": "execute_result"
    }
   ],
   "source": [
    "act.shape"
   ]
  },
  {
   "cell_type": "code",
   "execution_count": 3,
   "metadata": {},
   "outputs": [
    {
     "data": {
      "text/plain": [
       "tensor([[[0.0401, 0.0401, 0.0401, 0.0400, 0.0399],\n",
       "         [0.0401, 0.0401, 0.0401, 0.0400, 0.0398],\n",
       "         [0.0401, 0.0401, 0.0401, 0.0400, 0.0397],\n",
       "         [0.0401, 0.0401, 0.0401, 0.0400, 0.0397],\n",
       "         [0.0401, 0.0401, 0.0401, 0.0400, 0.0398]],\n",
       "\n",
       "        [[0.0401, 0.0401, 0.0401, 0.0400, 0.0399],\n",
       "         [0.0401, 0.0401, 0.0401, 0.0400, 0.0398],\n",
       "         [0.0401, 0.0401, 0.0401, 0.0400, 0.0397],\n",
       "         [0.0401, 0.0401, 0.0401, 0.0400, 0.0397],\n",
       "         [0.0401, 0.0401, 0.0401, 0.0400, 0.0398]]], grad_fn=<ViewBackward>)"
      ]
     },
     "execution_count": 3,
     "metadata": {},
     "output_type": "execute_result"
    }
   ],
   "source": [
    "act"
   ]
  },
  {
   "cell_type": "code",
   "execution_count": 4,
   "metadata": {},
   "outputs": [
    {
     "data": {
      "text/plain": [
       "tensor([[0.2002, 0.2000, 0.1999, 0.1999, 0.2000],\n",
       "        [0.2002, 0.2000, 0.1999, 0.1999, 0.2000]], grad_fn=<SumBackward1>)"
      ]
     },
     "execution_count": 4,
     "metadata": {},
     "output_type": "execute_result"
    }
   ],
   "source": [
    "torch.sum(act, dim=-1)"
   ]
  },
  {
   "cell_type": "code",
   "execution_count": 7,
   "metadata": {},
   "outputs": [
    {
     "data": {
      "text/plain": [
       "torch.Size([2, 1])"
      ]
     },
     "execution_count": 7,
     "metadata": {},
     "output_type": "execute_result"
    }
   ],
   "source": [
    "value.shape"
   ]
  },
  {
   "cell_type": "code",
   "execution_count": 6,
   "metadata": {},
   "outputs": [
    {
     "ename": "IndexError",
     "evalue": "Dimension out of range (expected to be in range of [-2, 1], but got 2)",
     "output_type": "error",
     "traceback": [
      "\u001b[0;31m---------------------------------------------------------------------------\u001b[0m",
      "\u001b[0;31mIndexError\u001b[0m                                Traceback (most recent call last)",
      "\u001b[0;32m<ipython-input-6-08fef5ea4c34>\u001b[0m in \u001b[0;36m<module>\u001b[0;34m\u001b[0m\n\u001b[1;32m      2\u001b[0m \u001b[0ma\u001b[0m \u001b[0;34m=\u001b[0m \u001b[0mtorch\u001b[0m\u001b[0;34m.\u001b[0m\u001b[0mTensor\u001b[0m\u001b[0;34m(\u001b[0m\u001b[0ma\u001b[0m\u001b[0;34m)\u001b[0m\u001b[0;34m\u001b[0m\u001b[0;34m\u001b[0m\u001b[0m\n\u001b[1;32m      3\u001b[0m \u001b[0msoftmax\u001b[0m \u001b[0;34m=\u001b[0m \u001b[0mtorch\u001b[0m\u001b[0;34m.\u001b[0m\u001b[0mnn\u001b[0m\u001b[0;34m.\u001b[0m\u001b[0mSoftmax\u001b[0m\u001b[0;34m(\u001b[0m\u001b[0mdim\u001b[0m\u001b[0;34m=\u001b[0m\u001b[0;36m2\u001b[0m\u001b[0;34m)\u001b[0m\u001b[0;34m\u001b[0m\u001b[0;34m\u001b[0m\u001b[0m\n\u001b[0;32m----> 4\u001b[0;31m \u001b[0msoftmax\u001b[0m\u001b[0;34m(\u001b[0m\u001b[0ma\u001b[0m\u001b[0;34m)\u001b[0m\u001b[0;34m\u001b[0m\u001b[0;34m\u001b[0m\u001b[0m\n\u001b[0m",
      "\u001b[0;32m~/codelab/venv/lib/python3.8/site-packages/torch/nn/modules/module.py\u001b[0m in \u001b[0;36m_call_impl\u001b[0;34m(self, *input, **kwargs)\u001b[0m\n\u001b[1;32m   1049\u001b[0m         if not (self._backward_hooks or self._forward_hooks or self._forward_pre_hooks or _global_backward_hooks\n\u001b[1;32m   1050\u001b[0m                 or _global_forward_hooks or _global_forward_pre_hooks):\n\u001b[0;32m-> 1051\u001b[0;31m             \u001b[0;32mreturn\u001b[0m \u001b[0mforward_call\u001b[0m\u001b[0;34m(\u001b[0m\u001b[0;34m*\u001b[0m\u001b[0minput\u001b[0m\u001b[0;34m,\u001b[0m \u001b[0;34m**\u001b[0m\u001b[0mkwargs\u001b[0m\u001b[0;34m)\u001b[0m\u001b[0;34m\u001b[0m\u001b[0;34m\u001b[0m\u001b[0m\n\u001b[0m\u001b[1;32m   1052\u001b[0m         \u001b[0;31m# Do not call functions when jit is used\u001b[0m\u001b[0;34m\u001b[0m\u001b[0;34m\u001b[0m\u001b[0;34m\u001b[0m\u001b[0m\n\u001b[1;32m   1053\u001b[0m         \u001b[0mfull_backward_hooks\u001b[0m\u001b[0;34m,\u001b[0m \u001b[0mnon_full_backward_hooks\u001b[0m \u001b[0;34m=\u001b[0m \u001b[0;34m[\u001b[0m\u001b[0;34m]\u001b[0m\u001b[0;34m,\u001b[0m \u001b[0;34m[\u001b[0m\u001b[0;34m]\u001b[0m\u001b[0;34m\u001b[0m\u001b[0;34m\u001b[0m\u001b[0m\n",
      "\u001b[0;32m~/codelab/venv/lib/python3.8/site-packages/torch/nn/modules/activation.py\u001b[0m in \u001b[0;36mforward\u001b[0;34m(self, input)\u001b[0m\n\u001b[1;32m   1254\u001b[0m \u001b[0;34m\u001b[0m\u001b[0m\n\u001b[1;32m   1255\u001b[0m     \u001b[0;32mdef\u001b[0m \u001b[0mforward\u001b[0m\u001b[0;34m(\u001b[0m\u001b[0mself\u001b[0m\u001b[0;34m,\u001b[0m \u001b[0minput\u001b[0m\u001b[0;34m:\u001b[0m \u001b[0mTensor\u001b[0m\u001b[0;34m)\u001b[0m \u001b[0;34m->\u001b[0m \u001b[0mTensor\u001b[0m\u001b[0;34m:\u001b[0m\u001b[0;34m\u001b[0m\u001b[0;34m\u001b[0m\u001b[0m\n\u001b[0;32m-> 1256\u001b[0;31m         \u001b[0;32mreturn\u001b[0m \u001b[0mF\u001b[0m\u001b[0;34m.\u001b[0m\u001b[0msoftmax\u001b[0m\u001b[0;34m(\u001b[0m\u001b[0minput\u001b[0m\u001b[0;34m,\u001b[0m \u001b[0mself\u001b[0m\u001b[0;34m.\u001b[0m\u001b[0mdim\u001b[0m\u001b[0;34m,\u001b[0m \u001b[0m_stacklevel\u001b[0m\u001b[0;34m=\u001b[0m\u001b[0;36m5\u001b[0m\u001b[0;34m)\u001b[0m\u001b[0;34m\u001b[0m\u001b[0;34m\u001b[0m\u001b[0m\n\u001b[0m\u001b[1;32m   1257\u001b[0m \u001b[0;34m\u001b[0m\u001b[0m\n\u001b[1;32m   1258\u001b[0m     \u001b[0;32mdef\u001b[0m \u001b[0mextra_repr\u001b[0m\u001b[0;34m(\u001b[0m\u001b[0mself\u001b[0m\u001b[0;34m)\u001b[0m \u001b[0;34m->\u001b[0m \u001b[0mstr\u001b[0m\u001b[0;34m:\u001b[0m\u001b[0;34m\u001b[0m\u001b[0;34m\u001b[0m\u001b[0m\n",
      "\u001b[0;32m~/codelab/venv/lib/python3.8/site-packages/torch/nn/functional.py\u001b[0m in \u001b[0;36msoftmax\u001b[0;34m(input, dim, _stacklevel, dtype)\u001b[0m\n\u001b[1;32m   1677\u001b[0m         \u001b[0mdim\u001b[0m \u001b[0;34m=\u001b[0m \u001b[0m_get_softmax_dim\u001b[0m\u001b[0;34m(\u001b[0m\u001b[0;34m\"softmax\"\u001b[0m\u001b[0;34m,\u001b[0m \u001b[0minput\u001b[0m\u001b[0;34m.\u001b[0m\u001b[0mdim\u001b[0m\u001b[0;34m(\u001b[0m\u001b[0;34m)\u001b[0m\u001b[0;34m,\u001b[0m \u001b[0m_stacklevel\u001b[0m\u001b[0;34m)\u001b[0m\u001b[0;34m\u001b[0m\u001b[0;34m\u001b[0m\u001b[0m\n\u001b[1;32m   1678\u001b[0m     \u001b[0;32mif\u001b[0m \u001b[0mdtype\u001b[0m \u001b[0;32mis\u001b[0m \u001b[0;32mNone\u001b[0m\u001b[0;34m:\u001b[0m\u001b[0;34m\u001b[0m\u001b[0;34m\u001b[0m\u001b[0m\n\u001b[0;32m-> 1679\u001b[0;31m         \u001b[0mret\u001b[0m \u001b[0;34m=\u001b[0m \u001b[0minput\u001b[0m\u001b[0;34m.\u001b[0m\u001b[0msoftmax\u001b[0m\u001b[0;34m(\u001b[0m\u001b[0mdim\u001b[0m\u001b[0;34m)\u001b[0m\u001b[0;34m\u001b[0m\u001b[0;34m\u001b[0m\u001b[0m\n\u001b[0m\u001b[1;32m   1680\u001b[0m     \u001b[0;32melse\u001b[0m\u001b[0;34m:\u001b[0m\u001b[0;34m\u001b[0m\u001b[0;34m\u001b[0m\u001b[0m\n\u001b[1;32m   1681\u001b[0m         \u001b[0mret\u001b[0m \u001b[0;34m=\u001b[0m \u001b[0minput\u001b[0m\u001b[0;34m.\u001b[0m\u001b[0msoftmax\u001b[0m\u001b[0;34m(\u001b[0m\u001b[0mdim\u001b[0m\u001b[0;34m,\u001b[0m \u001b[0mdtype\u001b[0m\u001b[0;34m=\u001b[0m\u001b[0mdtype\u001b[0m\u001b[0;34m)\u001b[0m\u001b[0;34m\u001b[0m\u001b[0;34m\u001b[0m\u001b[0m\n",
      "\u001b[0;31mIndexError\u001b[0m: Dimension out of range (expected to be in range of [-2, 1], but got 2)"
     ]
    }
   ],
   "source": [
    "a = np.ones((2, 3))\n",
    "a = torch.Tensor(a)\n",
    "softmax = torch.nn.Softmax(dim=2)\n",
    "softmax(a)"
   ]
  },
  {
   "cell_type": "code",
   "execution_count": 6,
   "metadata": {},
   "outputs": [],
   "source": [
    "a=1\n",
    "b=2\n",
    "c=3\n",
    "a, b, c = c, b, a"
   ]
  },
  {
   "cell_type": "code",
   "execution_count": 7,
   "metadata": {},
   "outputs": [
    {
     "data": {
      "text/plain": [
       "3"
      ]
     },
     "execution_count": 7,
     "metadata": {},
     "output_type": "execute_result"
    }
   ],
   "source": [
    "a"
   ]
  },
  {
   "cell_type": "code",
   "execution_count": 8,
   "metadata": {},
   "outputs": [
    {
     "data": {
      "text/plain": [
       "2"
      ]
     },
     "execution_count": 8,
     "metadata": {},
     "output_type": "execute_result"
    }
   ],
   "source": [
    "b"
   ]
  },
  {
   "cell_type": "code",
   "execution_count": 9,
   "metadata": {},
   "outputs": [
    {
     "data": {
      "text/plain": [
       "1"
      ]
     },
     "execution_count": 9,
     "metadata": {},
     "output_type": "execute_result"
    }
   ],
   "source": [
    "c"
   ]
  },
  {
   "cell_type": "code",
   "execution_count": 9,
   "metadata": {},
   "outputs": [],
   "source": [
    "import numpy as np\n",
    "\n",
    "a = np.array([0,0,0,0, 0])"
   ]
  },
  {
   "cell_type": "code",
   "execution_count": 10,
   "metadata": {},
   "outputs": [],
   "source": [
    "a[5%2-1::2]=1"
   ]
  },
  {
   "cell_type": "code",
   "execution_count": 11,
   "metadata": {},
   "outputs": [
    {
     "data": {
      "text/plain": [
       "array([1, 0, 1, 0, 1])"
      ]
     },
     "execution_count": 11,
     "metadata": {},
     "output_type": "execute_result"
    }
   ],
   "source": [
    "a"
   ]
  },
  {
   "cell_type": "code",
   "execution_count": 2,
   "metadata": {},
   "outputs": [
    {
     "data": {
      "text/plain": [
       "array([[1],\n",
       "       [2]])"
      ]
     },
     "execution_count": 2,
     "metadata": {},
     "output_type": "execute_result"
    }
   ],
   "source": [
    "import numpy as np\n",
    "\n",
    "a = np.array([1,2])\n",
    "np.expand_dims(a, axis=-1)"
   ]
  },
  {
   "cell_type": "code",
   "execution_count": 1,
   "metadata": {},
   "outputs": [
    {
     "data": {
      "text/plain": [
       "torch.Size([5, 10, 5])"
      ]
     },
     "execution_count": 1,
     "metadata": {},
     "output_type": "execute_result"
    }
   ],
   "source": [
    "import torch\n",
    "import numpy as np\n",
    "\n",
    "\n",
    "q = np.ones((5, 10, 9))\n",
    "k = np.ones((5,  9, 5))\n",
    "\n",
    "q = torch.Tensor(q)\n",
    "k = torch.Tensor(k)\n",
    "torch.bmm(q, k).shape"
   ]
  },
  {
   "cell_type": "code",
   "execution_count": 1,
   "metadata": {},
   "outputs": [],
   "source": [
    "from user.transformer.attention import Attention\n",
    "from user.transformer.net import Transformer\n",
    "import torch\n",
    "import numpy as np\n",
    "\n",
    "\n",
    "# model = Attention(10, 5, 15)\n",
    "model = Transformer(5, 10, 15)"
   ]
  },
  {
   "cell_type": "code",
   "execution_count": 2,
   "metadata": {},
   "outputs": [],
   "source": [
    "# data\n",
    "q = np.ones((16, 10, 15, 15))\n",
    "k = np.ones((16, 5, 15, 15))\n",
    "v = np.ones((16, 5, 15, 15))\n",
    "\n",
    "q = torch.Tensor(q)\n",
    "k = torch.Tensor(k)\n",
    "v = torch.Tensor(v)"
   ]
  },
  {
   "cell_type": "code",
   "execution_count": 4,
   "metadata": {},
   "outputs": [
    {
     "data": {
      "text/plain": [
       "tensor([[[9.7616e-17, 1.8235e-14, 5.3336e-18,  ..., 1.4651e-17,\n",
       "          1.8178e-17, 7.6781e-17],\n",
       "         [7.4481e-14, 1.5173e-14, 1.2948e-15,  ..., 2.9989e-15,\n",
       "          1.1214e-17, 1.3460e-14],\n",
       "         [9.1767e-12, 9.8639e-10, 7.9543e-15,  ..., 1.8823e-12,\n",
       "          1.0294e-15, 1.4488e-10],\n",
       "         ...,\n",
       "         [3.6709e-16, 1.9122e-14, 3.0732e-18,  ..., 4.5028e-18,\n",
       "          1.5212e-16, 1.2825e-17],\n",
       "         [1.2434e-13, 3.5618e-14, 1.6428e-15,  ..., 1.1274e-15,\n",
       "          9.9224e-18, 1.7940e-14],\n",
       "         [2.8535e-14, 2.2956e-13, 2.9409e-15,  ..., 2.1050e-14,\n",
       "          2.9882e-17, 1.8138e-13]],\n",
       "\n",
       "        [[1.7234e-14, 5.3244e-14, 6.9127e-15,  ..., 3.3984e-12,\n",
       "          6.5372e-14, 1.1584e-10],\n",
       "         [5.5674e-13, 6.1609e-13, 2.0778e-12,  ..., 3.0760e-09,\n",
       "          6.0966e-13, 1.9363e-06],\n",
       "         [6.3013e-11, 1.4066e-11, 2.0918e-12,  ..., 1.0111e-05,\n",
       "          4.4334e-10, 8.3104e-01],\n",
       "         ...,\n",
       "         [6.0462e-15, 1.2253e-13, 6.2613e-15,  ..., 8.6277e-13,\n",
       "          1.0633e-12, 5.8902e-12],\n",
       "         [6.4324e-12, 1.2917e-10, 1.0608e-09,  ..., 4.2784e-06,\n",
       "          2.7285e-10, 9.6079e-03],\n",
       "         [1.0545e-11, 4.1182e-12, 6.1420e-12,  ..., 3.0196e-07,\n",
       "          1.9378e-11, 1.0923e-04]],\n",
       "\n",
       "        [[3.7773e-19, 9.1242e-18, 4.8569e-21,  ..., 1.6382e-20,\n",
       "          1.4798e-20, 1.2209e-19],\n",
       "         [8.8252e-14, 1.3407e-16, 9.6692e-19,  ..., 3.0359e-18,\n",
       "          5.2084e-21, 5.3400e-17],\n",
       "         [7.0679e-13, 3.4044e-15, 5.8658e-17,  ..., 1.8419e-17,\n",
       "          8.4170e-19, 3.2621e-13],\n",
       "         ...,\n",
       "         [4.1277e-19, 1.6660e-17, 4.8792e-21,  ..., 1.1630e-21,\n",
       "          9.4241e-20, 1.2369e-21],\n",
       "         [1.5325e-11, 3.4103e-13, 6.3990e-18,  ..., 3.5422e-17,\n",
       "          1.7522e-18, 7.2472e-15],\n",
       "         [6.4996e-17, 8.0791e-18, 1.4477e-17,  ..., 3.7431e-18,\n",
       "          2.2132e-20, 5.4953e-16]],\n",
       "\n",
       "        ...,\n",
       "\n",
       "        [[3.0486e-18, 2.3234e-16, 1.0935e-18,  ..., 1.2341e-18,\n",
       "          2.7790e-19, 1.7049e-17],\n",
       "         [5.0089e-15, 1.3691e-15, 3.0292e-18,  ..., 1.8932e-19,\n",
       "          1.3254e-19, 2.9567e-16],\n",
       "         [2.4525e-10, 8.3731e-11, 2.7298e-15,  ..., 4.3207e-16,\n",
       "          2.7276e-17, 1.0931e-10],\n",
       "         ...,\n",
       "         [5.2025e-16, 1.7597e-15, 5.8080e-19,  ..., 3.0807e-19,\n",
       "          7.0875e-19, 1.3739e-18],\n",
       "         [2.3424e-12, 7.8592e-12, 1.4463e-15,  ..., 2.4015e-17,\n",
       "          2.1117e-17, 7.1994e-14],\n",
       "         [3.0256e-12, 5.7964e-14, 7.9925e-17,  ..., 1.3582e-16,\n",
       "          5.4089e-19, 1.1656e-13]],\n",
       "\n",
       "        [[1.5489e-14, 5.7480e-14, 6.8761e-18,  ..., 5.9246e-16,\n",
       "          1.7628e-16, 8.2700e-16],\n",
       "         [1.4170e-10, 1.1540e-12, 2.6516e-16,  ..., 9.1386e-13,\n",
       "          5.8575e-17, 2.1891e-12],\n",
       "         [1.8864e-11, 7.5488e-09, 9.3302e-13,  ..., 3.2987e-12,\n",
       "          4.5227e-14, 5.3720e-08],\n",
       "         ...,\n",
       "         [1.9947e-14, 5.6629e-12, 1.0433e-17,  ..., 1.9011e-16,\n",
       "          2.4099e-14, 4.4709e-16],\n",
       "         [4.9506e-08, 1.8539e-09, 7.3455e-15,  ..., 3.5768e-11,\n",
       "          4.9263e-13, 1.3741e-11],\n",
       "         [5.8447e-13, 1.2736e-11, 3.8300e-14,  ..., 2.8463e-13,\n",
       "          3.5591e-16, 8.3749e-12]],\n",
       "\n",
       "        [[1.5469e-16, 9.5802e-15, 1.2448e-17,  ..., 1.7727e-16,\n",
       "          5.0944e-17, 4.1269e-15],\n",
       "         [2.3782e-12, 3.2244e-12, 2.3221e-16,  ..., 1.7788e-14,\n",
       "          5.7006e-17, 1.4344e-13],\n",
       "         [1.6553e-09, 2.4703e-09, 9.1220e-14,  ..., 1.0791e-11,\n",
       "          4.6273e-13, 7.9582e-08],\n",
       "         ...,\n",
       "         [1.0895e-13, 2.1876e-12, 9.7080e-17,  ..., 1.0063e-14,\n",
       "          3.9118e-14, 9.6552e-14],\n",
       "         [3.3762e-09, 8.5867e-09, 8.3027e-15,  ..., 6.4425e-12,\n",
       "          1.0085e-13, 3.6996e-10],\n",
       "         [1.5429e-11, 5.3090e-10, 1.1975e-14,  ..., 2.6407e-13,\n",
       "          1.4656e-14, 6.2457e-12]]], grad_fn=<ViewBackward>)"
      ]
     },
     "execution_count": 4,
     "metadata": {},
     "output_type": "execute_result"
    }
   ],
   "source": [
    "model(q, k, v)"
   ]
  },
  {
   "cell_type": "code",
   "execution_count": 10,
   "metadata": {},
   "outputs": [
    {
     "data": {
      "text/plain": [
       "(0, 1, 2)"
      ]
     },
     "execution_count": 10,
     "metadata": {},
     "output_type": "execute_result"
    }
   ],
   "source": [
    "\n"
   ]
  },
  {
   "cell_type": "code",
   "execution_count": 82,
   "metadata": {},
   "outputs": [],
   "source": [
    "import torch\n",
    "\n",
    "a = np.array([[1,2,3,4,5],[6,7,8,9,10]])\n",
    "a = torch.Tensor(a)"
   ]
  },
  {
   "cell_type": "code",
   "execution_count": 85,
   "metadata": {},
   "outputs": [
    {
     "data": {
      "text/plain": [
       "tensor([3., 8.])"
      ]
     },
     "execution_count": 85,
     "metadata": {},
     "output_type": "execute_result"
    }
   ],
   "source": [
    "b = [0,1]\n",
    "c = [2,2]\n",
    "a[b,c]"
   ]
  },
  {
   "cell_type": "code",
   "execution_count": 84,
   "metadata": {},
   "outputs": [
    {
     "ename": "IndexError",
     "evalue": "index_select(): Index is supposed to be a vector",
     "output_type": "error",
     "traceback": [
      "\u001b[0;31m---------------------------------------------------------------------------\u001b[0m",
      "\u001b[0;31mIndexError\u001b[0m                                Traceback (most recent call last)",
      "\u001b[0;32m<ipython-input-84-f26cc5c48ecb>\u001b[0m in \u001b[0;36m<module>\u001b[0;34m\u001b[0m\n\u001b[0;32m----> 1\u001b[0;31m \u001b[0mtorch\u001b[0m\u001b[0;34m.\u001b[0m\u001b[0mindex_select\u001b[0m\u001b[0;34m(\u001b[0m\u001b[0ma\u001b[0m\u001b[0;34m,\u001b[0m \u001b[0mdim\u001b[0m\u001b[0;34m=\u001b[0m\u001b[0;34m-\u001b[0m\u001b[0;36m1\u001b[0m\u001b[0;34m,\u001b[0m \u001b[0mindex\u001b[0m\u001b[0;34m=\u001b[0m\u001b[0mb\u001b[0m\u001b[0;34m)\u001b[0m\u001b[0;34m\u001b[0m\u001b[0;34m\u001b[0m\u001b[0m\n\u001b[0m",
      "\u001b[0;31mIndexError\u001b[0m: index_select(): Index is supposed to be a vector"
     ]
    }
   ],
   "source": [
    "torch.index_select(a, dim=-1, index=b)"
   ]
  },
  {
   "cell_type": "code",
   "execution_count": 95,
   "metadata": {},
   "outputs": [
    {
     "data": {
      "text/plain": [
       "tensor(0.2107)"
      ]
     },
     "execution_count": 95,
     "metadata": {},
     "output_type": "execute_result"
    }
   ],
   "source": [
    "import torch\n",
    "from torch import Tensor\n",
    "\n",
    "a = np.array([[0.9],[0.1]])\n",
    "label = np.array([[1],[0]])\n",
    "\n",
    "a = Tensor(a)\n",
    "label = Tensor(label)\n",
    "\n",
    "torch.sum(-label * torch.log(a) -(1-label) * torch.log(1-a))"
   ]
  },
  {
   "cell_type": "code",
   "execution_count": 2,
   "metadata": {},
   "outputs": [
    {
     "data": {
      "text/plain": [
       "0.6938403277405052"
      ]
     },
     "execution_count": 2,
     "metadata": {},
     "output_type": "execute_result"
    }
   ],
   "source": [
    "import math\n",
    "label = 0\n",
    "pred = 0.5\n",
    "\n",
    "-(1-label + 0.001)*math.log(pred) - label*math.log(pred + 0.001)"
   ]
  },
  {
   "cell_type": "code",
   "execution_count": 3,
   "metadata": {},
   "outputs": [
    {
     "data": {
      "text/plain": [
       "0.6938403277405052"
      ]
     },
     "execution_count": 3,
     "metadata": {},
     "output_type": "execute_result"
    }
   ],
   "source": [
    "-(1-label + 0.001)*math.log(pred)"
   ]
  },
  {
   "cell_type": "code",
   "execution_count": 4,
   "metadata": {},
   "outputs": [
    {
     "data": {
      "text/plain": [
       "-0.0"
      ]
     },
     "execution_count": 4,
     "metadata": {},
     "output_type": "execute_result"
    }
   ],
   "source": [
    "label*math.log(pred + 0.001)"
   ]
  },
  {
   "cell_type": "code",
   "execution_count": 2,
   "metadata": {},
   "outputs": [
    {
     "name": "stdout",
     "output_type": "stream",
     "text": [
      "None\n",
      "tensor([[ -34.0340,    1.9998],\n",
      "        [-626.7603,    2.4360]])\n"
     ]
    },
    {
     "name": "stderr",
     "output_type": "stream",
     "text": [
      "<ipython-input-2-ae65f709fbcd>:8: UserWarning: The .grad attribute of a Tensor that is not a leaf Tensor is being accessed. Its .grad attribute won't be populated during autograd.backward(). If you indeed want the gradient for a non-leaf Tensor, use .retain_grad() on the non-leaf Tensor. If you access the non-leaf Tensor by mistake, make sure you access the leaf Tensor instead. See github.com/pytorch/pytorch/pull/30531 for more information.\n",
      "  print(b.grad)\n"
     ]
    }
   ],
   "source": [
    "import torch\n",
    "\n",
    "a = torch.randn(2,2)\n",
    "a = ((a*3)/ (a-1))\n",
    "a.requires_grad_(True)\n",
    "b = (a * a).sum()\n",
    "b.backward()\n",
    "print(b.grad)\n",
    "print(a.grad)"
   ]
  },
  {
   "cell_type": "code",
   "execution_count": 7,
   "metadata": {},
   "outputs": [],
   "source": [
    "import numpy as np\n",
    "\n",
    "a = np.array([[4,3], [0,1]])"
   ]
  },
  {
   "cell_type": "code",
   "execution_count": 8,
   "metadata": {},
   "outputs": [
    {
     "data": {
      "text/plain": [
       "array([[4, 3],\n",
       "       [0, 1]])"
      ]
     },
     "execution_count": 8,
     "metadata": {},
     "output_type": "execute_result"
    }
   ],
   "source": [
    "a"
   ]
  },
  {
   "cell_type": "code",
   "execution_count": 9,
   "metadata": {},
   "outputs": [
    {
     "data": {
      "text/plain": [
       "array([4, 1])"
      ]
     },
     "execution_count": 9,
     "metadata": {},
     "output_type": "execute_result"
    }
   ],
   "source": [
    "a[(0,1), (0,1)]"
   ]
  },
  {
   "cell_type": "code",
   "execution_count": 11,
   "metadata": {},
   "outputs": [
    {
     "name": "stdout",
     "output_type": "stream",
     "text": [
      "debug: [7, 3]\n"
     ]
    }
   ],
   "source": [
    "win_step = [(7, 9), (3, 5)]\n",
    "print(\"debug:\", [x[0] for x in win_step])"
   ]
  },
  {
   "cell_type": "code",
   "execution_count": 14,
   "metadata": {},
   "outputs": [],
   "source": [
    "import numpy as np\n",
    "\n",
    "\n",
    "a = np.random.randn()"
   ]
  },
  {
   "cell_type": "code",
   "execution_count": 15,
   "metadata": {},
   "outputs": [
    {
     "data": {
      "text/plain": [
       "0.5315617507761129"
      ]
     },
     "execution_count": 15,
     "metadata": {},
     "output_type": "execute_result"
    }
   ],
   "source": [
    "a"
   ]
  },
  {
   "cell_type": "code",
   "execution_count": 29,
   "metadata": {},
   "outputs": [
    {
     "data": {
      "text/plain": [
       "{5: 0.17993,\n",
       " 6: 0.140281,\n",
       " 4: 0.179378,\n",
       " 7: 0.099698,\n",
       " 1: 0.060196,\n",
       " 8: 0.059716,\n",
       " 2: 0.100202,\n",
       " 0: 0.019889,\n",
       " 3: 0.140415,\n",
       " 9: 0.020295}"
      ]
     },
     "execution_count": 29,
     "metadata": {},
     "output_type": "execute_result"
    }
   ],
   "source": [
    "import random\n",
    "from collections import defaultdict\n",
    "\n",
    "\n",
    "dic = defaultdict(int)\n",
    "for _ in range(1000000):\n",
    "    num = random.triangular(0,1)\n",
    "    dic[int(num * 10)] += 1\n",
    "sum_ = sum(dic.values())\n",
    "dic = {key: dic[key] / sum_ for key in dic}\n",
    "dic"
   ]
  },
  {
   "cell_type": "code",
   "execution_count": 36,
   "metadata": {},
   "outputs": [
    {
     "data": {
      "text/plain": [
       "{4: 0.314233,\n",
       " 5: 0.31313,\n",
       " 3: 0.153408,\n",
       " 7: 0.031065,\n",
       " 2: 0.031242,\n",
       " 6: 0.15364,\n",
       " 1: 0.001587,\n",
       " 8: 0.001685,\n",
       " 0: 4e-06,\n",
       " 9: 6e-06}"
      ]
     },
     "execution_count": 36,
     "metadata": {},
     "output_type": "execute_result"
    }
   ],
   "source": [
    "import random\n",
    "from collections import defaultdict\n",
    "\n",
    "\n",
    "dic = defaultdict(int)\n",
    "for _ in range(1000000):\n",
    "    num = random.betavariate(10,10)\n",
    "    dic[int(num * 10)] += 1\n",
    "sum_ = sum(dic.values())\n",
    "dic = {key: dic[key] / sum_ for key in dic}\n",
    "dic"
   ]
  },
  {
   "cell_type": "code",
   "execution_count": 37,
   "metadata": {},
   "outputs": [
    {
     "name": "stdout",
     "output_type": "stream",
     "text": [
      "java script execute failed, msg: null,\tstackTrace info: \n",
      "\tcom.pdd.search.xcheck.TuneTaskClass.accumulatedMetric(TuneTaskClass.java:152)\n",
      "\tcom.pdd.search.xcheck.TuneTaskClass.process(TuneTaskClass.java:694)\n",
      "\tsun.reflect.NativeMethodAccessorImpl.invoke0(Native Method)\n",
      "\tsun.reflect.NativeMethodAccessorImpl.invoke(NativeMethodAccessorImpl.java:62)\n",
      "\tsun.reflect.DelegatingMethodAccessorImpl.invoke(DelegatingMethodAccessorImpl.java:43)\n",
      "\tjava.lang.reflect.Method.invoke(Method.java:498)\n",
      "\tcom.pdd.search.xcheck.service.tuning.script.JavaDynamicExecutor.run(JavaDynamicExecutor.java:33)\n",
      "\tcom.pdd.search.xcheck.service.tuning.DataProcessor.scriptProcess(DataProcessor.java:48)\n",
      "\tcom.pdd.search.xcheck.tuningTask.TuningTaskExecutor$TaskExecuteUnit.run(TuningTaskExecutor.java:159)\n",
      "\tjava.util.concurrent.Executors$RunnableAdapter.call(Executors.java:511)\n",
      "\tjava.util.concurrent.FutureTask.run(FutureTask.java:266)\n",
      "\tcom.alibaba.ttl.TtlRunnable.run(TtlRunnable.java:52)\n",
      "\tjava.util.concurrent.ThreadPoolExecutor.runWorker(ThreadPoolExecutor.java:1149)\n",
      "\tjava.util.concurrent.ThreadPoolExecutor$Worker.run(ThreadPoolExecutor.java:624)\n",
      "\tjava.lang.Thread.run(Thread.java:748)\n",
      "\n"
     ]
    }
   ],
   "source": [
    "print(\"java script execute failed, msg: null,\\tstackTrace info: \\n\\tcom.pdd.search.xcheck.TuneTaskClass.accumulatedMetric(TuneTaskClass.java:152)\\n\\tcom.pdd.search.xcheck.TuneTaskClass.process(TuneTaskClass.java:694)\\n\\tsun.reflect.NativeMethodAccessorImpl.invoke0(Native Method)\\n\\tsun.reflect.NativeMethodAccessorImpl.invoke(NativeMethodAccessorImpl.java:62)\\n\\tsun.reflect.DelegatingMethodAccessorImpl.invoke(DelegatingMethodAccessorImpl.java:43)\\n\\tjava.lang.reflect.Method.invoke(Method.java:498)\\n\\tcom.pdd.search.xcheck.service.tuning.script.JavaDynamicExecutor.run(JavaDynamicExecutor.java:33)\\n\\tcom.pdd.search.xcheck.service.tuning.DataProcessor.scriptProcess(DataProcessor.java:48)\\n\\tcom.pdd.search.xcheck.tuningTask.TuningTaskExecutor$TaskExecuteUnit.run(TuningTaskExecutor.java:159)\\n\\tjava.util.concurrent.Executors$RunnableAdapter.call(Executors.java:511)\\n\\tjava.util.concurrent.FutureTask.run(FutureTask.java:266)\\n\\tcom.alibaba.ttl.TtlRunnable.run(TtlRunnable.java:52)\\n\\tjava.util.concurrent.ThreadPoolExecutor.runWorker(ThreadPoolExecutor.java:1149)\\n\\tjava.util.concurrent.ThreadPoolExecutor$Worker.run(ThreadPoolExecutor.java:624)\\n\\tjava.lang.Thread.run(Thread.java:748)\\n\",\n",
    "      )"
   ]
  },
  {
   "cell_type": "code",
   "execution_count": 39,
   "metadata": {},
   "outputs": [
    {
     "name": "stdout",
     "output_type": "stream",
     "text": [
      "java script execute failed, msg: null,\tstackTrace info: \n",
      "\tcom.pdd.search.xcheck.TuneTaskClass.accumulatedMetric(TuneTaskClass.java:433)\n",
      "\tcom.pdd.search.xcheck.TuneTaskClass$UCBBandit.updateOneExp(TuneTaskClass.java:308)\n",
      "\tcom.pdd.search.xcheck.TuneTaskClass$UCBBandit.update(TuneTaskClass.java:244)\n",
      "\tcom.pdd.search.xcheck.TuneTaskClass.process(TuneTaskClass.java:117)\n",
      "\tsun.reflect.NativeMethodAccessorImpl.invoke0(Native Method)\n",
      "\tsun.reflect.NativeMethodAccessorImpl.invoke(NativeMethodAccessorImpl.java:62)\n",
      "\tsun.reflect.DelegatingMethodAccessorImpl.invoke(DelegatingMethodAccessorImpl.java:43)\n",
      "\tjava.lang.reflect.Method.invoke(Method.java:498)\n",
      "\tcom.pdd.search.xcheck.service.tuning.script.JavaDynamicExecutor.run(JavaDynamicExecutor.java:33)\n",
      "\tcom.pdd.search.xcheck.controller.http.tuning.TaskTestController.executeScript(TaskTestController.java:94)\n",
      "\tcom.pdd.search.xcheck.controller.http.tuning.TaskTestController$$FastClassBySpringCGLIB$$87487215.invoke(<generated>)\n",
      "\torg.springframework.cglib.proxy.MethodProxy.invoke(MethodProxy.java:204)\n",
      "\torg.springframework.aop.framework.CglibAopProxy$CglibMethodInvocation.invokeJoinpoint(CglibAopProxy.java:738)\n",
      "\torg.springframework.aop.framework.ReflectiveMethodInvocation.proceed(ReflectiveMethodInvocation.java:157)\n",
      "\torg.springframework.aop.framework.adapter.MethodBeforeAdviceInterceptor.invoke(MethodBeforeAdviceInterceptor.java:52)\n",
      "\torg.springframework.aop.framework.ReflectiveMethodInvocation.proceed(ReflectiveMethodInvocation.java:168)\n",
      "\torg.springframework.aop.interceptor.ExposeInvocationInterceptor.invoke(ExposeInvocationInterceptor.java:92)\n",
      "\torg.springframework.aop.framework.ReflectiveMethodInvocation.proceed(ReflectiveMethodInvocation.java:179)\n",
      "\torg.springframework.aop.framework.CglibAopProxy$DynamicAdvisedInterceptor.intercept(CglibAopProxy.java:673)\n",
      "\tcom.pdd.search.xcheck.controller.http.tuning.TaskTestController$$EnhancerBySpringCGLIB$$dd0a6c.executeScript(<generated>)\n",
      "\tsun.reflect.NativeMethodAccessorImpl.invoke0(Native Method)\n",
      "\tsun.reflect.NativeMethodAccessorImpl.invoke(NativeMethodAccessorImpl.java:62)\n",
      "\tsun.reflect.DelegatingMethodAccessorImpl.invoke(DelegatingMethodAccessorImpl.java:43)\n",
      "\tjava.lang.reflect.Method.invoke(Method.java:498)\n",
      "\torg.springframework.web.method.support.InvocableHandlerMethod.doInvoke(InvocableHandlerMethod.java:205)\n",
      "\torg.springframework.web.method.support.InvocableHandlerMethod.invokeForRequest(InvocableHandlerMethod.java:133)\n",
      "\torg.springframework.web.servlet.mvc.method.annotation.ServletInvocableHandlerMethod.invokeAndHandle(ServletInvocableHandlerMethod.java:97)\n",
      "\torg.springframework.web.servlet.mvc.method.annotation.RequestMappingHandlerAdapter.invokeHandlerMethod(RequestMappingHandlerAdapter.java:827)\n",
      "\torg.springframework.web.servlet.mvc.method.annotation.RequestMappingHandlerAdapter.handleInternal(RequestMappingHandlerAdapter.java:738)\n",
      "\torg.springframework.web.servlet.mvc.method.AbstractHandlerMethodAdapter.handle(AbstractHandlerMethodAdapter.java:85)\n",
      "\torg.springframework.web.servlet.DispatcherServlet.doDispatch(DispatcherServlet.java:967)\n",
      "\torg.springframework.web.servlet.DispatcherServlet.doService(DispatcherServlet.java:901)\n",
      "\torg.springframework.web.servlet.FrameworkServlet.processRequest(FrameworkServlet.java:970)\n",
      "\torg.springframework.web.servlet.FrameworkServlet.doPost(FrameworkServlet.java:872)\n",
      "\tjavax.servlet.http.HttpServlet.service(HttpServlet.java:707)\n",
      "\torg.springframework.web.servlet.FrameworkServlet.service(FrameworkServlet.java:846)\n",
      "\tjavax.servlet.http.HttpServlet.service(HttpServlet.java:790)\n",
      "\torg.apache.catalina.core.ApplicationFilterChain.internalDoFilter(ApplicationFilterChain.java:231)\n",
      "\torg.apache.catalina.core.ApplicationFilterChain.doFilter(ApplicationFilterChain.java:166)\n",
      "\torg.apache.tomcat.websocket.server.WsFilter.doFilter(WsFilter.java:52)\n",
      "\torg.apache.catalina.core.ApplicationFilterChain.internalDoFilter(ApplicationFilterChain.java:193)\n",
      "\torg.apache.catalina.core.ApplicationFilterChain.doFilter(ApplicationFilterChain.java:166)\n",
      "\tcom.dianping.cat.servlet.CatFilter.logTransaction(CatFilter.java:273)\n",
      "\tcom.dianping.cat.servlet.CatFilter.doFilter(CatFilter.java:92)\n",
      "\torg.apache.catalina.core.ApplicationFilterChain.internalDoFilter(ApplicationFilterChain.java:193)\n",
      "\torg.apache.catalina.core.ApplicationFilterChain.doFilter(ApplicationFilterChain.java:166)\n",
      "\torg.springframework.web.filter.RequestContextFilter.doFilterInternal(RequestContextFilter.java:99)\n",
      "\torg.springframework.web.filter.OncePerRequestFilter.doFilter(OncePerRequestFilter.java:107)\n",
      "\torg.apache.catalina.core.ApplicationFilterChain.internalDoFilter(ApplicationFilterChain.java:193)\n",
      "\torg.apache.catalina.core.ApplicationFilterChain.doFilter(ApplicationFilterChain.java:166)\n",
      "\torg.springframework.web.filter.HttpPutFormContentFilter.doFilterInternal(HttpPutFormContentFilter.java:109)\n",
      "\torg.springframework.web.filter.OncePerRequestFilter.doFilter(OncePerRequestFilter.java:107)\n",
      "\torg.apache.catalina.core.ApplicationFilterChain.internalDoFilter(ApplicationFilterChain.java:193)\n",
      "\torg.apache.catalina.core.ApplicationFilterChain.doFilter(ApplicationFilterChain.java:166)\n",
      "\torg.springframework.web.filter.HiddenHttpMethodFilter.doFilterInternal(HiddenHttpMethodFilter.java:81)\n",
      "\torg.springframework.web.filter.OncePerRequestFilter.doFilter(OncePerRequestFilter.java:107)\n",
      "\torg.apache.catalina.core.ApplicationFilterChain.internalDoFilter(ApplicationFilterChain.java:193)\n",
      "\torg.apache.catalina.core.ApplicationFilterChain.doFilter(ApplicationFilterChain.java:166)\n",
      "\torg.springframework.web.filter.CharacterEncodingFilter.doFilterInternal(CharacterEncodingFilter.java:197)\n",
      "\torg.springframework.web.filter.OncePerRequestFilter.doFilter(OncePerRequestFilter.java:107)\n",
      "\torg.apache.catalina.core.ApplicationFilterChain.internalDoFilter(ApplicationFilterChain.java:193)\n",
      "\torg.apache.catalina.core.ApplicationFilterChain.doFilter(ApplicationFilterChain.java:166)\n",
      "\tcom.pdd.iris.spring.filter.IrisWebFilter.doFilter(IrisWebFilter.java:43)\n",
      "\torg.apache.catalina.core.ApplicationFilterChain.internalDoFilter(ApplicationFilterChain.java:193)\n",
      "\torg.apache.catalina.core.ApplicationFilterChain.doFilter(ApplicationFilterChain.java:166)\n",
      "\torg.apache.catalina.core.StandardWrapperValve.invoke$original$PP8jkxf7(StandardWrapperValve.java:198)\n",
      "\torg.apache.catalina.core.StandardWrapperValve.invoke$original$PP8jkxf7$accessor$GDToxtH7(StandardWrapperValve.java)\n",
      "\torg.apache.catalina.core.StandardWrapperValve$auxiliary$Sli1pAQ0.call(Unknown Source)\n",
      "\tcom.pdd.service.ptracer.boot.api.injector.enhance.InstanceMethodEnhancer.enhance(InstanceMethodEnhancer.java:61)\n",
      "\torg.apache.catalina.core.StandardWrapperValve.invoke(StandardWrapperValve.java)\n",
      "\torg.apache.catalina.core.StandardContextValve.invoke(StandardContextValve.java:96)\n",
      "\torg.apache.catalina.authenticator.AuthenticatorBase.invoke(AuthenticatorBase.java:496)\n",
      "\torg.apache.catalina.core.StandardHostValve.invoke(StandardHostValve.java:140)\n",
      "\torg.apache.catalina.valves.ErrorReportValve.invoke(ErrorReportValve.java:81)\n",
      "\torg.apache.catalina.core.StandardEngineValve.invoke(StandardEngineValve.java:87)\n",
      "\torg.apache.catalina.connector.CoyoteAdapter.service(CoyoteAdapter.java:342)\n",
      "\torg.apache.coyote.http11.Http11Processor.service(Http11Processor.java:803)\n",
      "\torg.apache.coyote.AbstractProcessorLight.process(AbstractProcessorLight.java:66)\n",
      "\torg.apache.coyote.AbstractProtocol$ConnectionHandler.process(AbstractProtocol.java:790)\n",
      "\torg.apache.tomcat.util.net.NioEndpoint$SocketProcessor.doRun(NioEndpoint.java:1459)\n",
      "\torg.apache.tomcat.util.net.SocketProcessorBase.run(SocketProcessorBase.java:49)\n",
      "\tcom.alibaba.ttl.TtlRunnable.run(TtlRunnable.java:52)\n",
      "\tjava.util.concurrent.ThreadPoolExecutor.runWorker(ThreadPoolExecutor.java:1149)\n",
      "\tjava.util.concurrent.ThreadPoolExecutor$Worker.run(ThreadPoolExecutor.java:624)\n",
      "\torg.apache.tomcat.util.threads.TaskThread$WrappingRunnable.run(TaskThread.java:61)\n",
      "\tjava.lang.Thread.run(Thread.java:748)\n",
      "\n"
     ]
    }
   ],
   "source": [
    "print(\"java script execute failed, msg: null,\\tstackTrace info: \\n\\tcom.pdd.search.xcheck.TuneTaskClass.accumulatedMetric(TuneTaskClass.java:433)\\n\\tcom.pdd.search.xcheck.TuneTaskClass$UCBBandit.updateOneExp(TuneTaskClass.java:308)\\n\\tcom.pdd.search.xcheck.TuneTaskClass$UCBBandit.update(TuneTaskClass.java:244)\\n\\tcom.pdd.search.xcheck.TuneTaskClass.process(TuneTaskClass.java:117)\\n\\tsun.reflect.NativeMethodAccessorImpl.invoke0(Native Method)\\n\\tsun.reflect.NativeMethodAccessorImpl.invoke(NativeMethodAccessorImpl.java:62)\\n\\tsun.reflect.DelegatingMethodAccessorImpl.invoke(DelegatingMethodAccessorImpl.java:43)\\n\\tjava.lang.reflect.Method.invoke(Method.java:498)\\n\\tcom.pdd.search.xcheck.service.tuning.script.JavaDynamicExecutor.run(JavaDynamicExecutor.java:33)\\n\\tcom.pdd.search.xcheck.controller.http.tuning.TaskTestController.executeScript(TaskTestController.java:94)\\n\\tcom.pdd.search.xcheck.controller.http.tuning.TaskTestController$$FastClassBySpringCGLIB$$87487215.invoke(<generated>)\\n\\torg.springframework.cglib.proxy.MethodProxy.invoke(MethodProxy.java:204)\\n\\torg.springframework.aop.framework.CglibAopProxy$CglibMethodInvocation.invokeJoinpoint(CglibAopProxy.java:738)\\n\\torg.springframework.aop.framework.ReflectiveMethodInvocation.proceed(ReflectiveMethodInvocation.java:157)\\n\\torg.springframework.aop.framework.adapter.MethodBeforeAdviceInterceptor.invoke(MethodBeforeAdviceInterceptor.java:52)\\n\\torg.springframework.aop.framework.ReflectiveMethodInvocation.proceed(ReflectiveMethodInvocation.java:168)\\n\\torg.springframework.aop.interceptor.ExposeInvocationInterceptor.invoke(ExposeInvocationInterceptor.java:92)\\n\\torg.springframework.aop.framework.ReflectiveMethodInvocation.proceed(ReflectiveMethodInvocation.java:179)\\n\\torg.springframework.aop.framework.CglibAopProxy$DynamicAdvisedInterceptor.intercept(CglibAopProxy.java:673)\\n\\tcom.pdd.search.xcheck.controller.http.tuning.TaskTestController$$EnhancerBySpringCGLIB$$dd0a6c.executeScript(<generated>)\\n\\tsun.reflect.NativeMethodAccessorImpl.invoke0(Native Method)\\n\\tsun.reflect.NativeMethodAccessorImpl.invoke(NativeMethodAccessorImpl.java:62)\\n\\tsun.reflect.DelegatingMethodAccessorImpl.invoke(DelegatingMethodAccessorImpl.java:43)\\n\\tjava.lang.reflect.Method.invoke(Method.java:498)\\n\\torg.springframework.web.method.support.InvocableHandlerMethod.doInvoke(InvocableHandlerMethod.java:205)\\n\\torg.springframework.web.method.support.InvocableHandlerMethod.invokeForRequest(InvocableHandlerMethod.java:133)\\n\\torg.springframework.web.servlet.mvc.method.annotation.ServletInvocableHandlerMethod.invokeAndHandle(ServletInvocableHandlerMethod.java:97)\\n\\torg.springframework.web.servlet.mvc.method.annotation.RequestMappingHandlerAdapter.invokeHandlerMethod(RequestMappingHandlerAdapter.java:827)\\n\\torg.springframework.web.servlet.mvc.method.annotation.RequestMappingHandlerAdapter.handleInternal(RequestMappingHandlerAdapter.java:738)\\n\\torg.springframework.web.servlet.mvc.method.AbstractHandlerMethodAdapter.handle(AbstractHandlerMethodAdapter.java:85)\\n\\torg.springframework.web.servlet.DispatcherServlet.doDispatch(DispatcherServlet.java:967)\\n\\torg.springframework.web.servlet.DispatcherServlet.doService(DispatcherServlet.java:901)\\n\\torg.springframework.web.servlet.FrameworkServlet.processRequest(FrameworkServlet.java:970)\\n\\torg.springframework.web.servlet.FrameworkServlet.doPost(FrameworkServlet.java:872)\\n\\tjavax.servlet.http.HttpServlet.service(HttpServlet.java:707)\\n\\torg.springframework.web.servlet.FrameworkServlet.service(FrameworkServlet.java:846)\\n\\tjavax.servlet.http.HttpServlet.service(HttpServlet.java:790)\\n\\torg.apache.catalina.core.ApplicationFilterChain.internalDoFilter(ApplicationFilterChain.java:231)\\n\\torg.apache.catalina.core.ApplicationFilterChain.doFilter(ApplicationFilterChain.java:166)\\n\\torg.apache.tomcat.websocket.server.WsFilter.doFilter(WsFilter.java:52)\\n\\torg.apache.catalina.core.ApplicationFilterChain.internalDoFilter(ApplicationFilterChain.java:193)\\n\\torg.apache.catalina.core.ApplicationFilterChain.doFilter(ApplicationFilterChain.java:166)\\n\\tcom.dianping.cat.servlet.CatFilter.logTransaction(CatFilter.java:273)\\n\\tcom.dianping.cat.servlet.CatFilter.doFilter(CatFilter.java:92)\\n\\torg.apache.catalina.core.ApplicationFilterChain.internalDoFilter(ApplicationFilterChain.java:193)\\n\\torg.apache.catalina.core.ApplicationFilterChain.doFilter(ApplicationFilterChain.java:166)\\n\\torg.springframework.web.filter.RequestContextFilter.doFilterInternal(RequestContextFilter.java:99)\\n\\torg.springframework.web.filter.OncePerRequestFilter.doFilter(OncePerRequestFilter.java:107)\\n\\torg.apache.catalina.core.ApplicationFilterChain.internalDoFilter(ApplicationFilterChain.java:193)\\n\\torg.apache.catalina.core.ApplicationFilterChain.doFilter(ApplicationFilterChain.java:166)\\n\\torg.springframework.web.filter.HttpPutFormContentFilter.doFilterInternal(HttpPutFormContentFilter.java:109)\\n\\torg.springframework.web.filter.OncePerRequestFilter.doFilter(OncePerRequestFilter.java:107)\\n\\torg.apache.catalina.core.ApplicationFilterChain.internalDoFilter(ApplicationFilterChain.java:193)\\n\\torg.apache.catalina.core.ApplicationFilterChain.doFilter(ApplicationFilterChain.java:166)\\n\\torg.springframework.web.filter.HiddenHttpMethodFilter.doFilterInternal(HiddenHttpMethodFilter.java:81)\\n\\torg.springframework.web.filter.OncePerRequestFilter.doFilter(OncePerRequestFilter.java:107)\\n\\torg.apache.catalina.core.ApplicationFilterChain.internalDoFilter(ApplicationFilterChain.java:193)\\n\\torg.apache.catalina.core.ApplicationFilterChain.doFilter(ApplicationFilterChain.java:166)\\n\\torg.springframework.web.filter.CharacterEncodingFilter.doFilterInternal(CharacterEncodingFilter.java:197)\\n\\torg.springframework.web.filter.OncePerRequestFilter.doFilter(OncePerRequestFilter.java:107)\\n\\torg.apache.catalina.core.ApplicationFilterChain.internalDoFilter(ApplicationFilterChain.java:193)\\n\\torg.apache.catalina.core.ApplicationFilterChain.doFilter(ApplicationFilterChain.java:166)\\n\\tcom.pdd.iris.spring.filter.IrisWebFilter.doFilter(IrisWebFilter.java:43)\\n\\torg.apache.catalina.core.ApplicationFilterChain.internalDoFilter(ApplicationFilterChain.java:193)\\n\\torg.apache.catalina.core.ApplicationFilterChain.doFilter(ApplicationFilterChain.java:166)\\n\\torg.apache.catalina.core.StandardWrapperValve.invoke$original$PP8jkxf7(StandardWrapperValve.java:198)\\n\\torg.apache.catalina.core.StandardWrapperValve.invoke$original$PP8jkxf7$accessor$GDToxtH7(StandardWrapperValve.java)\\n\\torg.apache.catalina.core.StandardWrapperValve$auxiliary$Sli1pAQ0.call(Unknown Source)\\n\\tcom.pdd.service.ptracer.boot.api.injector.enhance.InstanceMethodEnhancer.enhance(InstanceMethodEnhancer.java:61)\\n\\torg.apache.catalina.core.StandardWrapperValve.invoke(StandardWrapperValve.java)\\n\\torg.apache.catalina.core.StandardContextValve.invoke(StandardContextValve.java:96)\\n\\torg.apache.catalina.authenticator.AuthenticatorBase.invoke(AuthenticatorBase.java:496)\\n\\torg.apache.catalina.core.StandardHostValve.invoke(StandardHostValve.java:140)\\n\\torg.apache.catalina.valves.ErrorReportValve.invoke(ErrorReportValve.java:81)\\n\\torg.apache.catalina.core.StandardEngineValve.invoke(StandardEngineValve.java:87)\\n\\torg.apache.catalina.connector.CoyoteAdapter.service(CoyoteAdapter.java:342)\\n\\torg.apache.coyote.http11.Http11Processor.service(Http11Processor.java:803)\\n\\torg.apache.coyote.AbstractProcessorLight.process(AbstractProcessorLight.java:66)\\n\\torg.apache.coyote.AbstractProtocol$ConnectionHandler.process(AbstractProtocol.java:790)\\n\\torg.apache.tomcat.util.net.NioEndpoint$SocketProcessor.doRun(NioEndpoint.java:1459)\\n\\torg.apache.tomcat.util.net.SocketProcessorBase.run(SocketProcessorBase.java:49)\\n\\tcom.alibaba.ttl.TtlRunnable.run(TtlRunnable.java:52)\\n\\tjava.util.concurrent.ThreadPoolExecutor.runWorker(ThreadPoolExecutor.java:1149)\\n\\tjava.util.concurrent.ThreadPoolExecutor$Worker.run(ThreadPoolExecutor.java:624)\\n\\torg.apache.tomcat.util.threads.TaskThread$WrappingRunnable.run(TaskThread.java:61)\\n\\tjava.lang.Thread.run(Thread.java:748)\\n\",\n",
    " )"
   ]
  },
  {
   "cell_type": "code",
   "execution_count": null,
   "metadata": {},
   "outputs": [],
   "source": []
  }
 ],
 "metadata": {
  "kernelspec": {
   "display_name": "Python 3",
   "language": "python",
   "name": "python3"
  },
  "language_info": {
   "codemirror_mode": {
    "name": "ipython",
    "version": 3
   },
   "file_extension": ".py",
   "mimetype": "text/x-python",
   "name": "python",
   "nbconvert_exporter": "python",
   "pygments_lexer": "ipython3",
   "version": "3.8.5"
  }
 },
 "nbformat": 4,
 "nbformat_minor": 4
}
